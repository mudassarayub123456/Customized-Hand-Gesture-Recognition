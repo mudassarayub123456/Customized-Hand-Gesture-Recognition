{
 "cells": [
  {
   "cell_type": "code",
   "execution_count": 1,
   "metadata": {},
   "outputs": [],
   "source": [
    "# import the necessary packages\n",
    "from pyimagesearch import config\n",
    "from pyimagesearch import utils\n",
    "from tensorflow.keras.models import load_model\n",
    "from imutils.paths import list_images\n",
    "import matplotlib.pyplot as plt\n",
    "import numpy as np\n",
    "import argparse\n",
    "import cv2\n",
    "import tensorflow\n",
    "\n",
    "import tensorflow as tf\n",
    "import csv"
   ]
  },
  {
   "cell_type": "code",
   "execution_count": 5,
   "metadata": {},
   "outputs": [
    {
     "name": "stdout",
     "output_type": "stream",
     "text": [
      "[array([[0.29067093]], dtype=float32), array([[0.43297]], dtype=float32), array([[0.06486861]], dtype=float32), array([[0.9035837]], dtype=float32), array([[0.75098693]], dtype=float32), array([[0.3949656]], dtype=float32), array([[0.6638744]], dtype=float32), array([[0.14503805]], dtype=float32), array([[0.16316777]], dtype=float32), array([[0.6876547]], dtype=float32), array([[0.42556942]], dtype=float32), array([[0.00465674]], dtype=float32), array([[0.7535383]], dtype=float32)]\n",
      "11\n",
      "['I', 'Love', 'You', 'Play', 'How', 'Football', 'Fine', 'Am', 'cricket', 'Excellent', 'Reverse', 'Funny', 'help']\n",
      "Funny\n"
     ]
    }
   ],
   "source": [
    "tflite_save_path = 'netron model shapes/contranstive/contranstive.tflite'\n",
    "\n",
    "anchors_path = r\"E:\\nicholas renotte\\siamese_handgesture_v5_26_6_22\\model\\keypoint_classifier\\anchors.csv\"\n",
    "test_path = r\"E:\\nicholas renotte\\siamese_handgesture_v5_26_6_22\\model\\keypoint_classifier\\test.csv\"\n",
    "\n",
    "anchors = np.loadtxt(anchors_path, delimiter=',', dtype='float32', usecols=list(range(1, (21 * 2) + 1)))\n",
    "\n",
    "testing = np.loadtxt(test_path, delimiter=',', dtype='float32', usecols=list(range(1, (21 * 2) + 1)))\n",
    "\n",
    "interpreter = tf.lite.Interpreter(model_path=tflite_save_path)\n",
    "\n",
    "\n",
    "out_preds = []\n",
    "for anchor in anchors:\n",
    "    interpreter.allocate_tensors()\n",
    "    input_details = interpreter.get_input_details()\n",
    "    output_details = interpreter.get_output_details()\n",
    "#     pair_1_dim = np.expand_dims(anchor, axis = 0)\n",
    "#     pair_2_dim = np.expand_dims(testing, axis = 0)\n",
    "    pair_1_dim = np.array([anchor])\n",
    "    pair_2_dim = np.array([testing])\n",
    "    interpreter.set_tensor(input_details[0]['index'], pair_1_dim)\n",
    "    interpreter.set_tensor(input_details[1]['index'], pair_2_dim)\n",
    "    interpreter.invoke()\n",
    "    tflite_results = interpreter.get_tensor(output_details[0]['index'])\n",
    "    out_preds.append(tflite_results)\n",
    "\n",
    "gg = np.argmin(out_preds)\n",
    "print(out_preds)\n",
    "print(gg)\n",
    "\n",
    "with open('model/keypoint_classifier/keypoint_classifier_label.csv',\n",
    "            encoding='utf-8-sig') as f:\n",
    "\n",
    "    \n",
    "    keypoint_classifier_labels = csv.reader(f)\n",
    "    keypoint_classifier_labels = [\n",
    "        row[0] for row in keypoint_classifier_labels\n",
    "    ]\n",
    "    print(keypoint_classifier_labels)\n",
    "    \n",
    "aa =keypoint_classifier_labels[gg]\n",
    "print(aa)\n",
    "\n",
    "\n",
    "#print(anchors)"
   ]
  },
  {
   "cell_type": "code",
   "execution_count": null,
   "metadata": {},
   "outputs": [],
   "source": []
  },
  {
   "cell_type": "code",
   "execution_count": null,
   "metadata": {},
   "outputs": [],
   "source": []
  },
  {
   "cell_type": "code",
   "execution_count": null,
   "metadata": {},
   "outputs": [],
   "source": []
  }
 ],
 "metadata": {
  "kernelspec": {
   "display_name": "siamese",
   "language": "python",
   "name": "siamese"
  },
  "language_info": {
   "codemirror_mode": {
    "name": "ipython",
    "version": 3
   },
   "file_extension": ".py",
   "mimetype": "text/x-python",
   "name": "python",
   "nbconvert_exporter": "python",
   "pygments_lexer": "ipython3",
   "version": "3.7.4"
  }
 },
 "nbformat": 4,
 "nbformat_minor": 2
}
