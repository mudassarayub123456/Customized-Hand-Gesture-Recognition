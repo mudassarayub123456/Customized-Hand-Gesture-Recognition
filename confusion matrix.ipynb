{
 "cells": [
  {
   "cell_type": "code",
   "execution_count": 1,
   "metadata": {},
   "outputs": [],
   "source": [
    "from pyimagesearch import config\n",
    "from pyimagesearch import utils\n",
    "from tensorflow.keras.models import load_model\n",
    "from imutils.paths import list_images\n",
    "import matplotlib.pyplot as plt\n",
    "import numpy as np\n",
    "import argparse\n",
    "import cv2\n",
    "import tensorflow\n",
    "import tensorflow as tf\n",
    "import csv\n",
    "\n",
    "import pandas as pd\n",
    "import seaborn as sns\n",
    "import matplotlib.pyplot as plt\n",
    "from sklearn.metrics import confusion_matrix, classification_report"
   ]
  },
  {
   "cell_type": "code",
   "execution_count": 2,
   "metadata": {},
   "outputs": [],
   "source": [
    "\n",
    "def prediction(anchors, testing):\n",
    "    \n",
    "    tflite_save_path = 'model/keypoint_classifier/keypoint_classifier.tflite'\n",
    "    interpreter = tf.lite.Interpreter(model_path=tflite_save_path)\n",
    "    preds = []\n",
    "    for test in testing:\n",
    "        out_preds = []\n",
    "        for anchor in anchors:        \n",
    "            interpreter.allocate_tensors()\n",
    "            input_details = interpreter.get_input_details()\n",
    "            output_details = interpreter.get_output_details()\n",
    "            pair_1_dim = np.array([anchor])\n",
    "            pair_2_dim = np.array([test])\n",
    "            interpreter.set_tensor(input_details[0]['index'], pair_1_dim)\n",
    "            interpreter.set_tensor(input_details[1]['index'], pair_2_dim)\n",
    "            interpreter.invoke()\n",
    "            tflite_results = interpreter.get_tensor(output_details[0]['index'])\n",
    "            out_preds.append(tflite_results)\n",
    "        gg = np.argmax(out_preds)\n",
    "        #print(out_preds)\n",
    "        #print(gg)\n",
    "        preds.append(gg)\n",
    "        predictions = np.array(preds)\n",
    "    return predictions\n",
    "\n",
    "\n"
   ]
  },
  {
   "cell_type": "code",
   "execution_count": 6,
   "metadata": {},
   "outputs": [
    {
     "name": "stdout",
     "output_type": "stream",
     "text": [
      "[12 10 10 10 11 10 10 10 10 10 10 10 10 11 11 11 12 11 11 11 11 11 12 12\n",
      " 12 12 12 12 12 12 12 12 12 12 12 12 12 12 12 12 12 12 12 12 12 12 12 12\n",
      " 12 12 12 12 12 12 13 13 13 13 13 13 13 14 14 14 14 14 14 14 14 14 14 14\n",
      " 14 14]\n"
     ]
    }
   ],
   "source": [
    "#anchors_path = r\"E:\\nicholas renotte\\siamese_handgesture_v5_26_6_22\\model\\keypoint_classifier\\anchors.csv\"\n",
    "anchors_path = r\"E:\\nicholas renotte\\siamese_handgesture_v5_26_6_22\\model\\keypoint_classifier\\cm\\anchors3.csv\"\n",
    "#test_path = r\"E:\\nicholas renotte\\siamese_handgesture_v5_26_6_22\\model\\keypoint_classifier\\cm\\test3.csv\"\n",
    "test_path = r\"E:\\nicholas renotte\\siamese_handgesture_v5_26_6_22\\model\\keypoint_classifier\\online.csv\"\n",
    "anchors = np.loadtxt(anchors_path, delimiter=',', dtype='float32', usecols=list(range(1, (21 * 2) + 1)))\n",
    "\n",
    "testing = np.loadtxt(test_path, delimiter=',', dtype='float32', usecols=list(range(1, (21 * 2) + 1)))\n",
    "predictions = prediction(anchors, testing)\n",
    "print(output)"
   ]
  },
  {
   "cell_type": "code",
   "execution_count": 7,
   "metadata": {},
   "outputs": [
    {
     "data": {
      "image/png": "[encoded data removed]",
      "text/plain": [
       "<Figure size 504x432 with 2 Axes>"
      ]
     },
     "metadata": {
      "needs_background": "light"
     },
     "output_type": "display_data"
    },
    {
     "name": "stdout",
     "output_type": "stream",
     "text": [
      "Classification Report\n",
      "              precision    recall  f1-score   support\n",
      "\n",
      "          10       1.00      1.00      1.00        11\n",
      "          11       1.00      1.00      1.00         9\n",
      "          12       1.00      1.00      1.00        34\n",
      "          13       1.00      1.00      1.00         7\n",
      "          14       1.00      1.00      1.00        13\n",
      "\n",
      "    accuracy                           1.00        74\n",
      "   macro avg       1.00      1.00      1.00        74\n",
      "weighted avg       1.00      1.00      1.00        74\n",
      "\n"
     ]
    }
   ],
   "source": [
    "\n",
    "def print_confusion_matrix(y_true, y_pred, report=True):\n",
    "    labels = sorted(list(set(y_true)))\n",
    "    cmx_data = confusion_matrix(y_true, y_pred, labels=labels)\n",
    "    \n",
    "    df_cmx = pd.DataFrame(cmx_data, index=labels, columns=labels)\n",
    " \n",
    "    fig, ax = plt.subplots(figsize=(7, 6))\n",
    "    sns.heatmap(df_cmx, annot=True, fmt='g' ,square=False)\n",
    "    ax.set_ylim(len(set(y_true)), 0)\n",
    "    plt.show()\n",
    "    \n",
    "    if report:\n",
    "        print('Classification Report')\n",
    "        print(classification_report(y_true, predictions))\n",
    "\n",
    "# Y_pred = model.predict(X_test)\n",
    "# y_pred = np.argmax(Y_pred, axis=1)\n",
    "y_true = np.loadtxt(test_path, delimiter=',', dtype='int32', usecols=(0))\n",
    "print_confusion_matrix(y_true, predictions)"
   ]
  },
  {
   "cell_type": "code",
   "execution_count": null,
   "metadata": {},
   "outputs": [],
   "source": []
  }
 ],
 "metadata": {
  "kernelspec": {
   "display_name": "siamese",
   "language": "python",
   "name": "siamese"
  },
  "language_info": {
   "codemirror_mode": {
    "name": "ipython",
    "version": 3
   },
   "file_extension": ".py",
   "mimetype": "text/x-python",
   "name": "python",
   "nbconvert_exporter": "python",
   "pygments_lexer": "ipython3",
   "version": "3.7.4"
  }
 },
 "nbformat": 4,
 "nbformat_minor": 2
}
