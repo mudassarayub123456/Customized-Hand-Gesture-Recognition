{
 "cells": [
  {
   "cell_type": "code",
   "execution_count": null,
   "metadata": {},
   "outputs": [],
   "source": [
    "from pyimagesearch.siamese_net import build_siamese_model\n",
    "from pyimagesearch import siamese_net\n",
    "from pyimagesearch import config\n",
    "from pyimagesearch import utils\n",
    "from tensorflow.keras.models import Model\n",
    "from tensorflow.keras.layers import Dense\n",
    "from tensorflow.keras.layers import Input\n",
    "from tensorflow.keras.layers import Lambda\n",
    "from tensorflow.keras.datasets import mnist\n",
    "import numpy as np\n",
    "\n",
    "import importlib as rld\n",
    "\n"
   ]
  },
  {
   "cell_type": "code",
   "execution_count": null,
   "metadata": {},
   "outputs": [],
   "source": [
    "# rld.reload(config)\n",
    "# rld.reload(siamese_net)\n",
    "# rld.reload(utils)\n",
    "# from pyimagesearch.siamese_net import build_siamese_model\n",
    "# print(config.IMG_SHAPE)\n",
    "# print(config.EPOCHS)\n",
    "# print(config.BATCH_SIZE)\n",
    "\n",
    "\n"
   ]
  },
  {
   "cell_type": "code",
   "execution_count": null,
   "metadata": {},
   "outputs": [],
   "source": [
    "print(config.EPOCHS)\n",
    "print(config.IMG_SHAPE)\n",
    "print(config.BATCH_SIZE)"
   ]
  },
  {
   "cell_type": "code",
   "execution_count": null,
   "metadata": {},
   "outputs": [],
   "source": [
    "# import random\n",
    "# import numpy as np\n",
    "# from tensorflow import keras\n",
    "# import wandb\n",
    "# #from wandb.keras import WandbCallback\n",
    "# from tensorflow.keras.models import Sequential, Model\n",
    "# from tensorflow.keras.layers import Flatten, Dense, Concatenate, Dot, Lambda, Input, Dropout\n",
    "# from tensorflow.keras.datasets import mnist\n",
    "# from tensorflow.keras.optimizers import Adam\n",
    "# import matplotlib.pyplot as plt"
   ]
  },
  {
   "cell_type": "code",
   "execution_count": 3,
   "metadata": {},
   "outputs": [],
   "source": [
    "import csv\n",
    "import tensorflow as tf\n",
    "from sklearn.model_selection import train_test_split\n",
    "\n",
    "RANDOM_SEED = 42"
   ]
  },
  {
   "cell_type": "code",
   "execution_count": 4,
   "metadata": {},
   "outputs": [],
   "source": [
    "dataset = 'model/keypoint_classifier/keypoint.csv'"
   ]
  },
  {
   "cell_type": "code",
   "execution_count": 5,
   "metadata": {},
   "outputs": [],
   "source": [
    "X_dataset = np.loadtxt(dataset, delimiter=',', dtype='float32', usecols=list(range(1, (21 * 2) + 1)))\n",
    "y_dataset = np.loadtxt(dataset, delimiter=',', dtype='int32', usecols=(0))"
   ]
  },
  {
   "cell_type": "code",
   "execution_count": 6,
   "metadata": {},
   "outputs": [],
   "source": [
    "trainX, testX, trainY, testY = train_test_split(X_dataset, y_dataset, train_size=0.75, random_state=RANDOM_SEED)"
   ]
  },
  {
   "cell_type": "code",
   "execution_count": 7,
   "metadata": {},
   "outputs": [
    {
     "name": "stdout",
     "output_type": "stream",
     "text": [
      "train images shape (2829, 42)\n",
      "lables train (2829,)\n",
      "test images shape (943, 42)\n",
      "labels test (943,)\n"
     ]
    }
   ],
   "source": [
    "print('train images shape',trainX.shape)\n",
    "print('lables train',trainY.shape)\n",
    "print('test images shape',testX.shape)\n",
    "print('labels test',testY.shape)"
   ]
  },
  {
   "cell_type": "code",
   "execution_count": 8,
   "metadata": {},
   "outputs": [
    {
     "name": "stdout",
     "output_type": "stream",
     "text": [
      "[INFO] preparing positive and negative pairs...\n"
     ]
    }
   ],
   "source": [
    "# prepare the positive and negative pairs\n",
    "print(\"[INFO] preparing positive and negative pairs...\")\n",
    "(pairTrain, labelTrain) = utils.make_pairs(trainX, trainY)\n",
    "(pairTest, labelTest) = utils.make_pairs(testX, testY)"
   ]
  },
  {
   "cell_type": "code",
   "execution_count": 9,
   "metadata": {},
   "outputs": [
    {
     "name": "stdout",
     "output_type": "stream",
     "text": [
      "(5658, 2, 42)\n",
      "(5658, 1)\n",
      "(1886, 2, 42)\n",
      "(1886, 1)\n"
     ]
    }
   ],
   "source": [
    "# pair shape\n",
    "print(pairTrain.shape)\n",
    "print(labelTrain.shape)\n",
    "\n",
    "print(pairTest.shape)\n",
    "print(labelTest.shape)"
   ]
  },
  {
   "cell_type": "code",
   "execution_count": 10,
   "metadata": {},
   "outputs": [
    {
     "name": "stdout",
     "output_type": "stream",
     "text": [
      "[INFO] building siamese network...\n",
      "(None, 42)\n",
      "(None, 256)\n"
     ]
    }
   ],
   "source": [
    "# configure the siamese network\n",
    "print(\"[INFO] building siamese network...\")\n",
    "imgA = Input(shape=config.IMG_SHAPE)\n",
    "imgB = Input(shape=config.IMG_SHAPE)\n",
    "print(imgA.shape)\n",
    "featureExtractor = build_siamese_model(config.IMG_SHAPE)\n",
    "featsA = featureExtractor(imgA)\n",
    "featsB = featureExtractor(imgB)\n",
    "print(featsA.shape)"
   ]
  },
  {
   "cell_type": "code",
   "execution_count": 11,
   "metadata": {},
   "outputs": [],
   "source": [
    "# finally, construct the siamese network\n",
    "distance = Lambda(utils.euclidean_distance)([featsA, featsB])\n",
    "outputs = Dense(1, activation=\"sigmoid\")(distance)\n",
    "model = Model(inputs=[imgA, imgB], outputs=outputs)"
   ]
  },
  {
   "cell_type": "code",
   "execution_count": 12,
   "metadata": {},
   "outputs": [],
   "source": [
    "model_save_path = 'output/saving_model/mudassar_siamese.hdf5'"
   ]
  },
  {
   "cell_type": "code",
   "execution_count": 13,
   "metadata": {},
   "outputs": [],
   "source": [
    "cp_callback = tf.keras.callbacks.ModelCheckpoint(\n",
    "    model_save_path, verbose=1, save_weights_only=False)\n",
    "es_callback = tf.keras.callbacks.EarlyStopping(patience=30, verbose=1)"
   ]
  },
  {
   "cell_type": "code",
   "execution_count": 14,
   "metadata": {},
   "outputs": [
    {
     "name": "stdout",
     "output_type": "stream",
     "text": [
      "[INFO] compiling model...\n"
     ]
    }
   ],
   "source": [
    "# compile the model\n",
    "print(\"[INFO] compiling model...\")\n",
    "model.compile(loss=\"binary_crossentropy\", optimizer=\"adam\",\n",
    "\tmetrics=[\"accuracy\"])"
   ]
  },
  {
   "cell_type": "code",
   "execution_count": 15,
   "metadata": {},
   "outputs": [
    {
     "name": "stdout",
     "output_type": "stream",
     "text": [
      "[INFO] training model...\n",
      "Epoch 1/500\n",
      "354/354 [==============================] - 2s 4ms/step - loss: 0.6671 - accuracy: 0.5228 - val_loss: 0.5359 - val_accuracy: 0.7683\n",
      "\n",
      "Epoch 00001: saving model to output/saving_model\\mudassar_siamese.hdf5\n",
      "Epoch 2/500\n",
      "354/354 [==============================] - 1s 2ms/step - loss: 0.5846 - accuracy: 0.6311 - val_loss: 0.4825 - val_accuracy: 0.8415\n",
      "\n",
      "Epoch 00002: saving model to output/saving_model\\mudassar_siamese.hdf5\n",
      "Epoch 3/500\n",
      "354/354 [==============================] - 1s 3ms/step - loss: 0.5441 - accuracy: 0.7219 - val_loss: 0.4395 - val_accuracy: 0.8505\n",
      "\n",
      "Epoch 00003: saving model to output/saving_model\\mudassar_siamese.hdf5\n",
      "Epoch 4/500\n",
      "354/354 [==============================] - 1s 2ms/step - loss: 0.5028 - accuracy: 0.7689 - val_loss: 0.4144 - val_accuracy: 0.8616\n",
      "\n",
      "Epoch 00004: saving model to output/saving_model\\mudassar_siamese.hdf5\n",
      "Epoch 5/500\n",
      "354/354 [==============================] - 1s 2ms/step - loss: 0.4713 - accuracy: 0.7953 - val_loss: 0.3895 - val_accuracy: 0.8712\n",
      "\n",
      "Epoch 00005: saving model to output/saving_model\\mudassar_siamese.hdf5\n",
      "Epoch 6/500\n",
      "354/354 [==============================] - 1s 2ms/step - loss: 0.4643 - accuracy: 0.7901 - val_loss: 0.3438 - val_accuracy: 0.8966\n",
      "\n",
      "Epoch 00006: saving model to output/saving_model\\mudassar_siamese.hdf5\n",
      "Epoch 7/500\n",
      "354/354 [==============================] - 1s 2ms/step - loss: 0.4360 - accuracy: 0.8135 - val_loss: 0.3283 - val_accuracy: 0.9014\n",
      "\n",
      "Epoch 00007: saving model to output/saving_model\\mudassar_siamese.hdf5\n",
      "Epoch 8/500\n",
      "354/354 [==============================] - 1s 2ms/step - loss: 0.4133 - accuracy: 0.8303 - val_loss: 0.3188 - val_accuracy: 0.8993\n",
      "\n",
      "Epoch 00008: saving model to output/saving_model\\mudassar_siamese.hdf5\n",
      "Epoch 9/500\n",
      "354/354 [==============================] - 1s 2ms/step - loss: 0.4046 - accuracy: 0.8357 - val_loss: 0.3155 - val_accuracy: 0.8982\n",
      "\n",
      "Epoch 00009: saving model to output/saving_model\\mudassar_siamese.hdf5\n",
      "Epoch 10/500\n",
      "354/354 [==============================] - 1s 2ms/step - loss: 0.3940 - accuracy: 0.8451 - val_loss: 0.2875 - val_accuracy: 0.9051\n",
      "\n",
      "Epoch 00010: saving model to output/saving_model\\mudassar_siamese.hdf5\n",
      "Epoch 11/500\n",
      "354/354 [==============================] - 1s 3ms/step - loss: 0.3712 - accuracy: 0.8565 - val_loss: 0.2785 - val_accuracy: 0.9104\n",
      "\n",
      "Epoch 00011: saving model to output/saving_model\\mudassar_siamese.hdf5\n",
      "Epoch 12/500\n",
      "354/354 [==============================] - 1s 2ms/step - loss: 0.3677 - accuracy: 0.8448 - val_loss: 0.2882 - val_accuracy: 0.8998\n",
      "\n",
      "Epoch 00012: saving model to output/saving_model\\mudassar_siamese.hdf5\n",
      "Epoch 13/500\n",
      "354/354 [==============================] - 1s 2ms/step - loss: 0.3677 - accuracy: 0.8508 - val_loss: 0.2697 - val_accuracy: 0.9072\n",
      "\n",
      "Epoch 00013: saving model to output/saving_model\\mudassar_siamese.hdf5\n",
      "Epoch 14/500\n",
      "354/354 [==============================] - 1s 2ms/step - loss: 0.3633 - accuracy: 0.8573 - val_loss: 0.2614 - val_accuracy: 0.9062\n",
      "\n",
      "Epoch 00014: saving model to output/saving_model\\mudassar_siamese.hdf5\n",
      "Epoch 15/500\n",
      "354/354 [==============================] - 1s 2ms/step - loss: 0.3608 - accuracy: 0.8592 - val_loss: 0.2631 - val_accuracy: 0.9077\n",
      "\n",
      "Epoch 00015: saving model to output/saving_model\\mudassar_siamese.hdf5\n",
      "Epoch 16/500\n",
      "354/354 [==============================] - 1s 3ms/step - loss: 0.3491 - accuracy: 0.8530 - val_loss: 0.2520 - val_accuracy: 0.9099\n",
      "\n",
      "Epoch 00016: saving model to output/saving_model\\mudassar_siamese.hdf5\n",
      "Epoch 17/500\n",
      "354/354 [==============================] - 1s 2ms/step - loss: 0.3507 - accuracy: 0.8620 - val_loss: 0.2643 - val_accuracy: 0.8998\n",
      "\n",
      "Epoch 00017: saving model to output/saving_model\\mudassar_siamese.hdf5\n",
      "Epoch 18/500\n",
      "354/354 [==============================] - 1s 3ms/step - loss: 0.3383 - accuracy: 0.8638 - val_loss: 0.2468 - val_accuracy: 0.9072\n",
      "\n",
      "Epoch 00018: saving model to output/saving_model\\mudassar_siamese.hdf5\n",
      "Epoch 19/500\n",
      "354/354 [==============================] - 1s 2ms/step - loss: 0.3332 - accuracy: 0.8647 - val_loss: 0.2488 - val_accuracy: 0.9088\n",
      "\n",
      "Epoch 00019: saving model to output/saving_model\\mudassar_siamese.hdf5\n",
      "Epoch 20/500\n",
      "354/354 [==============================] - 1s 2ms/step - loss: 0.3275 - accuracy: 0.8662 - val_loss: 0.2445 - val_accuracy: 0.9083\n",
      "\n",
      "Epoch 00020: saving model to output/saving_model\\mudassar_siamese.hdf5\n",
      "Epoch 21/500\n",
      "354/354 [==============================] - 1s 3ms/step - loss: 0.3307 - accuracy: 0.8666 - val_loss: 0.2390 - val_accuracy: 0.9062\n",
      "\n",
      "Epoch 00021: saving model to output/saving_model\\mudassar_siamese.hdf5\n",
      "Epoch 22/500\n",
      "354/354 [==============================] - 1s 2ms/step - loss: 0.3383 - accuracy: 0.8698 - val_loss: 0.2350 - val_accuracy: 0.9083\n",
      "\n",
      "Epoch 00022: saving model to output/saving_model\\mudassar_siamese.hdf5\n",
      "Epoch 23/500\n",
      "354/354 [==============================] - 1s 3ms/step - loss: 0.3149 - accuracy: 0.8761 - val_loss: 0.2450 - val_accuracy: 0.8987\n",
      "\n",
      "Epoch 00023: saving model to output/saving_model\\mudassar_siamese.hdf5\n",
      "Epoch 24/500\n",
      "354/354 [==============================] - 1s 2ms/step - loss: 0.3158 - accuracy: 0.8703 - val_loss: 0.2256 - val_accuracy: 0.9088\n",
      "\n",
      "Epoch 00024: saving model to output/saving_model\\mudassar_siamese.hdf5\n",
      "Epoch 25/500\n",
      "354/354 [==============================] - 1s 2ms/step - loss: 0.3133 - accuracy: 0.8765 - val_loss: 0.2353 - val_accuracy: 0.9040\n",
      "\n",
      "Epoch 00025: saving model to output/saving_model\\mudassar_siamese.hdf5\n",
      "Epoch 26/500\n",
      "354/354 [==============================] - 1s 2ms/step - loss: 0.3145 - accuracy: 0.8713 - val_loss: 0.2468 - val_accuracy: 0.9008\n",
      "\n",
      "Epoch 00026: saving model to output/saving_model\\mudassar_siamese.hdf5\n",
      "Epoch 27/500\n",
      "354/354 [==============================] - 1s 1ms/step - loss: 0.2975 - accuracy: 0.8839 - val_loss: 0.2356 - val_accuracy: 0.9040\n",
      "\n",
      "Epoch 00027: saving model to output/saving_model\\mudassar_siamese.hdf5\n",
      "Epoch 28/500\n",
      "354/354 [==============================] - 1s 3ms/step - loss: 0.3175 - accuracy: 0.8739 - val_loss: 0.2362 - val_accuracy: 0.9067\n",
      "\n",
      "Epoch 00028: saving model to output/saving_model\\mudassar_siamese.hdf5\n",
      "Epoch 29/500\n",
      "354/354 [==============================] - 1s 2ms/step - loss: 0.3103 - accuracy: 0.8823 - val_loss: 0.2253 - val_accuracy: 0.9077\n",
      "\n",
      "Epoch 00029: saving model to output/saving_model\\mudassar_siamese.hdf5\n",
      "Epoch 30/500\n",
      "354/354 [==============================] - 1s 2ms/step - loss: 0.2889 - accuracy: 0.8899 - val_loss: 0.2319 - val_accuracy: 0.9062\n",
      "\n",
      "Epoch 00030: saving model to output/saving_model\\mudassar_siamese.hdf5\n",
      "Epoch 31/500\n",
      "354/354 [==============================] - 1s 3ms/step - loss: 0.2994 - accuracy: 0.8781 - val_loss: 0.2204 - val_accuracy: 0.9056\n",
      "\n",
      "Epoch 00031: saving model to output/saving_model\\mudassar_siamese.hdf5\n",
      "Epoch 32/500\n",
      "354/354 [==============================] - 1s 1ms/step - loss: 0.2954 - accuracy: 0.8842 - val_loss: 0.2345 - val_accuracy: 0.9024\n",
      "\n",
      "Epoch 00032: saving model to output/saving_model\\mudassar_siamese.hdf5\n",
      "Epoch 33/500\n",
      "354/354 [==============================] - 1s 3ms/step - loss: 0.2932 - accuracy: 0.8845 - val_loss: 0.2247 - val_accuracy: 0.9083\n",
      "\n",
      "Epoch 00033: saving model to output/saving_model\\mudassar_siamese.hdf5\n",
      "Epoch 34/500\n",
      "354/354 [==============================] - 1s 2ms/step - loss: 0.2866 - accuracy: 0.8854 - val_loss: 0.2191 - val_accuracy: 0.9019\n",
      "\n",
      "Epoch 00034: saving model to output/saving_model\\mudassar_siamese.hdf5\n",
      "Epoch 35/500\n",
      "354/354 [==============================] - 1s 2ms/step - loss: 0.2749 - accuracy: 0.8964 - val_loss: 0.2179 - val_accuracy: 0.9019\n",
      "\n",
      "Epoch 00035: saving model to output/saving_model\\mudassar_siamese.hdf5\n",
      "Epoch 36/500\n",
      "354/354 [==============================] - 1s 3ms/step - loss: 0.2824 - accuracy: 0.8846 - val_loss: 0.2133 - val_accuracy: 0.9040\n",
      "\n",
      "Epoch 00036: saving model to output/saving_model\\mudassar_siamese.hdf5\n",
      "Epoch 37/500\n",
      "354/354 [==============================] - 1s 1ms/step - loss: 0.2734 - accuracy: 0.8935 - val_loss: 0.2246 - val_accuracy: 0.9056\n",
      "\n",
      "Epoch 00037: saving model to output/saving_model\\mudassar_siamese.hdf5\n",
      "Epoch 38/500\n",
      "354/354 [==============================] - 1s 3ms/step - loss: 0.2835 - accuracy: 0.8864 - val_loss: 0.2145 - val_accuracy: 0.9067\n",
      "\n",
      "Epoch 00038: saving model to output/saving_model\\mudassar_siamese.hdf5\n",
      "Epoch 39/500\n"
     ]
    },
    {
     "name": "stdout",
     "output_type": "stream",
     "text": [
      "354/354 [==============================] - 1s 2ms/step - loss: 0.2780 - accuracy: 0.8975 - val_loss: 0.2150 - val_accuracy: 0.9077\n",
      "\n",
      "Epoch 00039: saving model to output/saving_model\\mudassar_siamese.hdf5\n",
      "Epoch 40/500\n",
      "354/354 [==============================] - 1s 2ms/step - loss: 0.2774 - accuracy: 0.8871 - val_loss: 0.2156 - val_accuracy: 0.9046\n",
      "\n",
      "Epoch 00040: saving model to output/saving_model\\mudassar_siamese.hdf5\n",
      "Epoch 41/500\n",
      "354/354 [==============================] - 1s 3ms/step - loss: 0.2753 - accuracy: 0.8860 - val_loss: 0.2102 - val_accuracy: 0.9083\n",
      "\n",
      "Epoch 00041: saving model to output/saving_model\\mudassar_siamese.hdf5\n",
      "Epoch 42/500\n",
      "354/354 [==============================] - 1s 1ms/step - loss: 0.2757 - accuracy: 0.8879 - val_loss: 0.2092 - val_accuracy: 0.9056\n",
      "\n",
      "Epoch 00042: saving model to output/saving_model\\mudassar_siamese.hdf5\n",
      "Epoch 43/500\n",
      "354/354 [==============================] - 1s 3ms/step - loss: 0.2709 - accuracy: 0.8901 - val_loss: 0.2479 - val_accuracy: 0.8876\n",
      "\n",
      "Epoch 00043: saving model to output/saving_model\\mudassar_siamese.hdf5\n",
      "Epoch 44/500\n",
      "354/354 [==============================] - 1s 2ms/step - loss: 0.2598 - accuracy: 0.9078 - val_loss: 0.2130 - val_accuracy: 0.9030\n",
      "\n",
      "Epoch 00044: saving model to output/saving_model\\mudassar_siamese.hdf5\n",
      "Epoch 45/500\n",
      "354/354 [==============================] - 1s 1ms/step - loss: 0.2670 - accuracy: 0.8990 - val_loss: 0.2181 - val_accuracy: 0.9008\n",
      "\n",
      "Epoch 00045: saving model to output/saving_model\\mudassar_siamese.hdf5\n",
      "Epoch 46/500\n",
      "354/354 [==============================] - 1s 3ms/step - loss: 0.2499 - accuracy: 0.9026 - val_loss: 0.2129 - val_accuracy: 0.9040\n",
      "\n",
      "Epoch 00046: saving model to output/saving_model\\mudassar_siamese.hdf5\n",
      "Epoch 47/500\n",
      "354/354 [==============================] - 1s 2ms/step - loss: 0.2492 - accuracy: 0.9004 - val_loss: 0.2324 - val_accuracy: 0.8945\n",
      "\n",
      "Epoch 00047: saving model to output/saving_model\\mudassar_siamese.hdf5\n",
      "Epoch 48/500\n",
      "354/354 [==============================] - 1s 2ms/step - loss: 0.2660 - accuracy: 0.8900 - val_loss: 0.2093 - val_accuracy: 0.9093\n",
      "\n",
      "Epoch 00048: saving model to output/saving_model\\mudassar_siamese.hdf5\n",
      "Epoch 49/500\n",
      "354/354 [==============================] - 1s 2ms/step - loss: 0.2535 - accuracy: 0.8968 - val_loss: 0.2281 - val_accuracy: 0.8913\n",
      "\n",
      "Epoch 00049: saving model to output/saving_model\\mudassar_siamese.hdf5\n",
      "Epoch 50/500\n",
      "354/354 [==============================] - 1s 2ms/step - loss: 0.2564 - accuracy: 0.9008 - val_loss: 0.2140 - val_accuracy: 0.9003\n",
      "\n",
      "Epoch 00050: saving model to output/saving_model\\mudassar_siamese.hdf5\n",
      "Epoch 51/500\n",
      "354/354 [==============================] - 1s 3ms/step - loss: 0.2477 - accuracy: 0.9066 - val_loss: 0.1967 - val_accuracy: 0.9130\n",
      "\n",
      "Epoch 00051: saving model to output/saving_model\\mudassar_siamese.hdf5\n",
      "Epoch 52/500\n",
      "354/354 [==============================] - 1s 2ms/step - loss: 0.2526 - accuracy: 0.9108 - val_loss: 0.2012 - val_accuracy: 0.9083\n",
      "\n",
      "Epoch 00052: saving model to output/saving_model\\mudassar_siamese.hdf5\n",
      "Epoch 53/500\n",
      "354/354 [==============================] - 1s 2ms/step - loss: 0.2531 - accuracy: 0.9001 - val_loss: 0.1820 - val_accuracy: 0.9231\n",
      "\n",
      "Epoch 00053: saving model to output/saving_model\\mudassar_siamese.hdf5\n",
      "Epoch 54/500\n",
      "354/354 [==============================] - 1s 2ms/step - loss: 0.2523 - accuracy: 0.8958 - val_loss: 0.1980 - val_accuracy: 0.9120\n",
      "\n",
      "Epoch 00054: saving model to output/saving_model\\mudassar_siamese.hdf5\n",
      "Epoch 55/500\n",
      "354/354 [==============================] - 1s 1ms/step - loss: 0.2516 - accuracy: 0.9075 - val_loss: 0.1967 - val_accuracy: 0.9104\n",
      "\n",
      "Epoch 00055: saving model to output/saving_model\\mudassar_siamese.hdf5\n",
      "Epoch 56/500\n",
      "354/354 [==============================] - 1s 3ms/step - loss: 0.2443 - accuracy: 0.9069 - val_loss: 0.2294 - val_accuracy: 0.8950\n",
      "\n",
      "Epoch 00056: saving model to output/saving_model\\mudassar_siamese.hdf5\n",
      "Epoch 57/500\n",
      "354/354 [==============================] - 1s 2ms/step - loss: 0.2529 - accuracy: 0.9018 - val_loss: 0.2099 - val_accuracy: 0.8971\n",
      "\n",
      "Epoch 00057: saving model to output/saving_model\\mudassar_siamese.hdf5\n",
      "Epoch 58/500\n",
      "354/354 [==============================] - 1s 2ms/step - loss: 0.2290 - accuracy: 0.9085 - val_loss: 0.2091 - val_accuracy: 0.8998\n",
      "\n",
      "Epoch 00058: saving model to output/saving_model\\mudassar_siamese.hdf5\n",
      "Epoch 59/500\n",
      "354/354 [==============================] - 1s 3ms/step - loss: 0.2304 - accuracy: 0.9118 - val_loss: 0.2234 - val_accuracy: 0.8918\n",
      "\n",
      "Epoch 00059: saving model to output/saving_model\\mudassar_siamese.hdf5\n",
      "Epoch 60/500\n",
      "354/354 [==============================] - 1s 1ms/step - loss: 0.2292 - accuracy: 0.9106 - val_loss: 0.2177 - val_accuracy: 0.8993\n",
      "\n",
      "Epoch 00060: saving model to output/saving_model\\mudassar_siamese.hdf5\n",
      "Epoch 61/500\n",
      "354/354 [==============================] - 1s 3ms/step - loss: 0.2393 - accuracy: 0.9051 - val_loss: 0.2131 - val_accuracy: 0.8998\n",
      "\n",
      "Epoch 00061: saving model to output/saving_model\\mudassar_siamese.hdf5\n",
      "Epoch 62/500\n",
      "354/354 [==============================] - 1s 2ms/step - loss: 0.2351 - accuracy: 0.9099 - val_loss: 0.2138 - val_accuracy: 0.8950\n",
      "\n",
      "Epoch 00062: saving model to output/saving_model\\mudassar_siamese.hdf5\n",
      "Epoch 63/500\n",
      "354/354 [==============================] - 1s 2ms/step - loss: 0.2279 - accuracy: 0.9175 - val_loss: 0.2326 - val_accuracy: 0.8924\n",
      "\n",
      "Epoch 00063: saving model to output/saving_model\\mudassar_siamese.hdf5\n",
      "Epoch 64/500\n",
      "354/354 [==============================] - 1s 3ms/step - loss: 0.2443 - accuracy: 0.9035 - val_loss: 0.2195 - val_accuracy: 0.9008\n",
      "\n",
      "Epoch 00064: saving model to output/saving_model\\mudassar_siamese.hdf5\n",
      "Epoch 65/500\n",
      "354/354 [==============================] - 1s 2ms/step - loss: 0.2307 - accuracy: 0.9068 - val_loss: 0.2121 - val_accuracy: 0.9035\n",
      "\n",
      "Epoch 00065: saving model to output/saving_model\\mudassar_siamese.hdf5\n",
      "Epoch 66/500\n",
      "354/354 [==============================] - 1s 3ms/step - loss: 0.2312 - accuracy: 0.9116 - val_loss: 0.2057 - val_accuracy: 0.9115\n",
      "\n",
      "Epoch 00066: saving model to output/saving_model\\mudassar_siamese.hdf5\n",
      "Epoch 67/500\n",
      "354/354 [==============================] - 1s 2ms/step - loss: 0.2267 - accuracy: 0.9157 - val_loss: 0.2231 - val_accuracy: 0.8908\n",
      "\n",
      "Epoch 00067: saving model to output/saving_model\\mudassar_siamese.hdf5\n",
      "Epoch 68/500\n",
      "354/354 [==============================] - 1s 2ms/step - loss: 0.2202 - accuracy: 0.9173 - val_loss: 0.2257 - val_accuracy: 0.8918\n",
      "\n",
      "Epoch 00068: saving model to output/saving_model\\mudassar_siamese.hdf5\n",
      "Epoch 69/500\n",
      "354/354 [==============================] - 1s 3ms/step - loss: 0.2309 - accuracy: 0.9092 - val_loss: 0.2453 - val_accuracy: 0.8796\n",
      "\n",
      "Epoch 00069: saving model to output/saving_model\\mudassar_siamese.hdf5\n",
      "Epoch 70/500\n",
      "354/354 [==============================] - 1s 2ms/step - loss: 0.2234 - accuracy: 0.9144 - val_loss: 0.2338 - val_accuracy: 0.8871\n",
      "\n",
      "Epoch 00070: saving model to output/saving_model\\mudassar_siamese.hdf5\n",
      "Epoch 71/500\n",
      "354/354 [==============================] - 1s 3ms/step - loss: 0.2102 - accuracy: 0.9225 - val_loss: 0.2277 - val_accuracy: 0.8929\n",
      "\n",
      "Epoch 00071: saving model to output/saving_model\\mudassar_siamese.hdf5\n",
      "Epoch 72/500\n",
      "354/354 [==============================] - 1s 2ms/step - loss: 0.2273 - accuracy: 0.9134 - val_loss: 0.1857 - val_accuracy: 0.9115\n",
      "\n",
      "Epoch 00072: saving model to output/saving_model\\mudassar_siamese.hdf5\n",
      "Epoch 73/500\n",
      "354/354 [==============================] - 1s 2ms/step - loss: 0.1967 - accuracy: 0.9271 - val_loss: 0.2371 - val_accuracy: 0.8924\n",
      "\n",
      "Epoch 00073: saving model to output/saving_model\\mudassar_siamese.hdf5\n",
      "Epoch 74/500\n",
      "354/354 [==============================] - 1s 3ms/step - loss: 0.2361 - accuracy: 0.9076 - val_loss: 0.2467 - val_accuracy: 0.8780\n",
      "\n",
      "Epoch 00074: saving model to output/saving_model\\mudassar_siamese.hdf5\n",
      "Epoch 75/500\n",
      "354/354 [==============================] - 1s 2ms/step - loss: 0.2181 - accuracy: 0.9167 - val_loss: 0.2476 - val_accuracy: 0.8855\n",
      "\n",
      "Epoch 00075: saving model to output/saving_model\\mudassar_siamese.hdf5\n",
      "Epoch 76/500\n",
      "354/354 [==============================] - 1s 3ms/step - loss: 0.2166 - accuracy: 0.9182 - val_loss: 0.2069 - val_accuracy: 0.9083\n",
      "\n",
      "Epoch 00076: saving model to output/saving_model\\mudassar_siamese.hdf5\n",
      "Epoch 77/500\n"
     ]
    },
    {
     "name": "stdout",
     "output_type": "stream",
     "text": [
      "354/354 [==============================] - 1s 2ms/step - loss: 0.2127 - accuracy: 0.9170 - val_loss: 0.2143 - val_accuracy: 0.9072\n",
      "\n",
      "Epoch 00077: saving model to output/saving_model\\mudassar_siamese.hdf5\n",
      "Epoch 78/500\n",
      "354/354 [==============================] - 1s 2ms/step - loss: 0.2088 - accuracy: 0.9209 - val_loss: 0.2370 - val_accuracy: 0.8908\n",
      "\n",
      "Epoch 00078: saving model to output/saving_model\\mudassar_siamese.hdf5\n",
      "Epoch 79/500\n",
      "354/354 [==============================] - 1s 2ms/step - loss: 0.2090 - accuracy: 0.9204 - val_loss: 0.2227 - val_accuracy: 0.8971\n",
      "\n",
      "Epoch 00079: saving model to output/saving_model\\mudassar_siamese.hdf5\n",
      "Epoch 80/500\n",
      "354/354 [==============================] - 1s 1ms/step - loss: 0.2155 - accuracy: 0.9200 - val_loss: 0.2162 - val_accuracy: 0.9035\n",
      "\n",
      "Epoch 00080: saving model to output/saving_model\\mudassar_siamese.hdf5\n",
      "Epoch 81/500\n",
      "354/354 [==============================] - 1s 3ms/step - loss: 0.2208 - accuracy: 0.9129 - val_loss: 0.2075 - val_accuracy: 0.9072\n",
      "\n",
      "Epoch 00081: saving model to output/saving_model\\mudassar_siamese.hdf5\n",
      "Epoch 82/500\n",
      "354/354 [==============================] - 1s 2ms/step - loss: 0.2051 - accuracy: 0.9242 - val_loss: 0.2421 - val_accuracy: 0.8897\n",
      "\n",
      "Epoch 00082: saving model to output/saving_model\\mudassar_siamese.hdf5\n",
      "Epoch 83/500\n",
      "354/354 [==============================] - 1s 2ms/step - loss: 0.2124 - accuracy: 0.9226 - val_loss: 0.2151 - val_accuracy: 0.9035\n",
      "\n",
      "Epoch 00083: saving model to output/saving_model\\mudassar_siamese.hdf5\n",
      "Epoch 00083: early stopping\n"
     ]
    }
   ],
   "source": [
    "# train the model\n",
    "print(\"[INFO] training model...\")\n",
    "history = model.fit(\n",
    "\t[pairTrain[:, 0], pairTrain[:, 1]], labelTrain[:],\n",
    "\tvalidation_data=([pairTest[:, 0], pairTest[:, 1]], labelTest[:]),\n",
    "\tbatch_size=config.BATCH_SIZE, \n",
    "\tepochs=config.EPOCHS,\n",
    "    callbacks=[cp_callback, es_callback])"
   ]
  },
  {
   "cell_type": "code",
   "execution_count": 16,
   "metadata": {},
   "outputs": [
    {
     "name": "stdout",
     "output_type": "stream",
     "text": [
      "[INFO] saving siamese model...\n",
      "INFO:tensorflow:Assets written to: output\\siamese_model\\assets\n",
      "[INFO] plotting training history...\n"
     ]
    },
    {
     "data": {
      "image/png": "[encoded data removed]",
      "text/plain": [
       "<Figure size 432x288 with 1 Axes>"
      ]
     },
     "metadata": {
      "needs_background": "light"
     },
     "output_type": "display_data"
    }
   ],
   "source": [
    "print(\"[INFO] saving siamese model...\")\n",
    "model.save(config.MODEL_PATH)\n",
    "# plot the training history\n",
    "print(\"[INFO] plotting training history...\")\n",
    "utils.plot_training(history, config.PLOT_PATH)"
   ]
  },
  {
   "cell_type": "code",
   "execution_count": 17,
   "metadata": {},
   "outputs": [
    {
     "name": "stdout",
     "output_type": "stream",
     "text": [
      "59/59 [==============================] - 0s 823us/step - loss: 0.2151 - accuracy: 0.9035\n",
      "test loss, test acc: [0.21513617038726807, 0.9034994840621948]\n"
     ]
    }
   ],
   "source": [
    "results = model.evaluate([pairTest[:,0], pairTest[:,1]], labelTest[:]) \n",
    "print(\"test loss, test acc:\", results)"
   ]
  },
  {
   "cell_type": "code",
   "execution_count": 18,
   "metadata": {},
   "outputs": [],
   "source": [
    "results = model.predict([pairTest[:,0], pairTest[:,1]]) "
   ]
  },
  {
   "cell_type": "code",
   "execution_count": 28,
   "metadata": {},
   "outputs": [
    {
     "name": "stdout",
     "output_type": "stream",
     "text": [
      "[0.968889]\n"
     ]
    }
   ],
   "source": [
    "print(results[1800])"
   ]
  },
  {
   "cell_type": "code",
   "execution_count": null,
   "metadata": {},
   "outputs": [],
   "source": [
    "pair_1 = pairTest[0,0]\n",
    "pair_2 = pairTest[0,1]\n",
    "print(pair_1.shape)\n",
    "\n",
    "labe_checking = labelTest[0]\n",
    "print(\"label is \",labe_checking)\n",
    "\n",
    "pair_1_dim = np.expand_dims(pair_1, axis = 0)\n",
    "pair_2_dim = np.expand_dims(pair_2, axis = 0)\n",
    "print(pair_1_dim.shape)\n",
    "\n",
    "pair_comb = [pair_1_dim, pair_2_dim]\n",
    "print(type(pair_comb ))\n",
    "\n",
    "\n",
    "pred_checking =model.predict(pair_comb)\n",
    "print(pred_checking[0][0])\n",
    "#predicting=model.predict()\n",
    "#0.93839717"
   ]
  },
  {
   "cell_type": "code",
   "execution_count": null,
   "metadata": {},
   "outputs": [],
   "source": [
    "anchors_path = r\"E:\\nicholas renotte\\siamese_handgesture_v5_26_6_22\\model\\keypoint_classifier\\anchors.csv\"\n",
    "test_path = r\"E:\\nicholas renotte\\siamese_handgesture_v5_26_6_22\\model\\keypoint_classifier\\test.csv\"\n",
    "anchors = np.loadtxt(anchors_path, delimiter=',', dtype='float32', usecols=list(range(1, (21 * 2) + 1)))\n",
    "#print(anchors)\n",
    "testing = np.loadtxt(test_path, delimiter=',', dtype='float32', usecols=list(range(1, (21 * 2) + 1)))"
   ]
  },
  {
   "cell_type": "code",
   "execution_count": null,
   "metadata": {},
   "outputs": [],
   "source": [
    "# import copy \n",
    "# print(testing.shape)\n",
    "# a=copy.deepcopy(testing)\n",
    "# z=copy.deepcopy(anchors)\n",
    "# y=z[0,:]\n",
    "# print(\"z is \",z.shape)\n",
    "# print(\"y is \",y.shape)\n",
    "# b=np.expand_dims(a, axis = 0)\n",
    "# x=np.expand_dims(y, axis = 0)\n",
    "# print(\"b after expand is \",b.shape)\n",
    "# print(\"x after expand is \",x.shape)\n",
    "# c = [b,x]\n",
    "# print(type(c))\n",
    "# print(len(c))\n",
    "# print(c[0].shape)"
   ]
  },
  {
   "cell_type": "code",
   "execution_count": null,
   "metadata": {},
   "outputs": [],
   "source": [
    "out_preds = []\n",
    "for anchor in anchors:\n",
    "    out_preds.append(model.predict([np.expand_dims(anchor, axis = 0), np.expand_dims(testing, axis = 0)]))\n",
    "    \n",
    "    #testing = [np.expand_dims(anchor, axis = 0), np.expand_dims(testing, axis = 0)]\n",
    "    \n",
    "#     print(type(testing))\n",
    "#     print(type(anchor))\n",
    "    \n",
    "gg= np.argmax(out_preds)\n",
    "print(out_preds)\n",
    "print(gg)"
   ]
  },
  {
   "cell_type": "code",
   "execution_count": null,
   "metadata": {},
   "outputs": [],
   "source": [
    "\n",
    "for anchor in anchors:\n",
    "    \n",
    "#     print(type(testing))\n",
    "#     print(type(anchor))\n",
    "    a= model.predict([np.expand_dims(anchor, axis = 0), np.expand_dims(testing, axis = 0)])\n",
    "    #print(a)\n",
    "    print(a[0][0])\n",
    "    "
   ]
  },
  {
   "cell_type": "code",
   "execution_count": null,
   "metadata": {},
   "outputs": [],
   "source": [
    "with open('model/keypoint_classifier/keypoint_classifier_label.csv',\n",
    "            encoding='utf-8-sig') as f:\n",
    "    \n",
    "    keypoint_classifier_labels = csv.reader(f)\n",
    "    keypoint_classifier_labels = [\n",
    "        row[0] for row in keypoint_classifier_labels\n",
    "    ]\n",
    "    print(keypoint_classifier_labels)\n",
    "    \n",
    "aa =keypoint_classifier_labels[gg]\n",
    "print(aa)"
   ]
  },
  {
   "cell_type": "code",
   "execution_count": null,
   "metadata": {},
   "outputs": [],
   "source": [
    "print(model.summary())"
   ]
  },
  {
   "cell_type": "code",
   "execution_count": null,
   "metadata": {},
   "outputs": [],
   "source": [
    "tflite_save_path = 'model/keypoint_classifier/keypoint_classifier.tflite'\n",
    "\n",
    "converter = tf.lite.TFLiteConverter.from_keras_model(model)\n",
    "converter.optimizations = [tf.lite.Optimize.DEFAULT]\n",
    "tflite_quantized_model = converter.convert()\n",
    "\n",
    "open(tflite_save_path, 'wb').write(tflite_quantized_model)"
   ]
  },
  {
   "cell_type": "code",
   "execution_count": null,
   "metadata": {},
   "outputs": [],
   "source": [
    "interpreter = tf.lite.Interpreter(model_path=tflite_save_path)\n",
    "interpreter.allocate_tensors()"
   ]
  },
  {
   "cell_type": "code",
   "execution_count": null,
   "metadata": {},
   "outputs": [],
   "source": [
    "input_details = interpreter.get_input_details()\n",
    "output_details = interpreter.get_output_details()"
   ]
  },
  {
   "cell_type": "code",
   "execution_count": null,
   "metadata": {},
   "outputs": [],
   "source": [
    "print(\"Input Shape:\", input_details[0]['shape'])\n",
    "print(\"Input Type:\", input_details[0]['dtype'])\n",
    "print(\"Output Shape:\", output_details[0]['shape'])\n",
    "print(\"Output Type:\", output_details[0]['dtype'])"
   ]
  },
  {
   "cell_type": "code",
   "execution_count": null,
   "metadata": {},
   "outputs": [],
   "source": [
    "\n",
    "# print(np.array([pairTest[0]]).shape)\n",
    "print(pairTest[0].shape)"
   ]
  },
  {
   "cell_type": "code",
   "execution_count": null,
   "metadata": {},
   "outputs": [],
   "source": [
    "print(pairTest.shape)\n",
    "print(pairTest[0,0].shape)\n",
    "print(pairTest[0,1].shape)\n",
    "print(pairTest[:2,:].shape)"
   ]
  },
  {
   "cell_type": "code",
   "execution_count": null,
   "metadata": {},
   "outputs": [],
   "source": [
    "print(\"Input details:\", input_details)\n",
    "print(\"Input details index:\", input_details[0]['index'])"
   ]
  },
  {
   "cell_type": "code",
   "execution_count": null,
   "metadata": {},
   "outputs": [],
   "source": [
    "print(\"Output details:\", output_details)\n",
    "print(\"Output details index:\", output_details[0]['index'])"
   ]
  },
  {
   "cell_type": "code",
   "execution_count": null,
   "metadata": {},
   "outputs": [],
   "source": [
    "#interpreter.set_tensor(input_details[0]['index'], np.array([pairTest[0,0],pairTest[0,1]]))"
   ]
  },
  {
   "cell_type": "code",
   "execution_count": null,
   "metadata": {},
   "outputs": [],
   "source": [
    "print(pair_1_dim)\n",
    "print(pair_1_dim.shape)\n",
    "\n",
    "print(pair_2_dim)\n",
    "print(pair_2_dim.shape)"
   ]
  },
  {
   "cell_type": "code",
   "execution_count": null,
   "metadata": {},
   "outputs": [],
   "source": [
    "interpreter.set_tensor(input_details[0]['index'], pair_1_dim)\n",
    "interpreter.set_tensor(input_details[1]['index'], pair_2_dim)"
   ]
  },
  {
   "cell_type": "code",
   "execution_count": null,
   "metadata": {},
   "outputs": [],
   "source": [
    "#interpreter.set_tensor(input_details[0]['index'], np.array([X_test[0]]))\n",
    "#%%time\n",
    "interpreter.invoke()\n",
    "tflite_results = interpreter.get_tensor(output_details[0]['index'])\n",
    "print(tflite_results[0][0])\n",
    "# print(np.squeeze(tflite_results))\n",
    "# gg =np.argmax(np.squeeze(tflite_results))\n",
    "# print(gg)"
   ]
  },
  {
   "cell_type": "code",
   "execution_count": null,
   "metadata": {},
   "outputs": [],
   "source": [
    "# model_save_path = \"E:/nicholas renotte/siamese_handgesture_v5_26_6_22/output/save_model\"\n",
    "# model.save(model_save_path)\n",
    "# #model = tf.keras.models.load_model(model_save_path)\n",
    "# # tensorflow.keras.models.save_model(\n",
    "# #     model,\n",
    "# #     model_save_path,\n",
    "# #     save_format='h5')\n",
    "    "
   ]
  },
  {
   "cell_type": "code",
   "execution_count": null,
   "metadata": {},
   "outputs": [],
   "source": []
  },
  {
   "cell_type": "code",
   "execution_count": null,
   "metadata": {},
   "outputs": [],
   "source": [
    "# from tensorflow.keras.models import save_model\n",
    "# save_model(model, \"model.h5\")"
   ]
  },
  {
   "cell_type": "code",
   "execution_count": null,
   "metadata": {},
   "outputs": [],
   "source": [
    "# model = load_model('model.h5')"
   ]
  },
  {
   "cell_type": "code",
   "execution_count": null,
   "metadata": {},
   "outputs": [],
   "source": [
    "# from tensorflow.keras.models import load_model"
   ]
  },
  {
   "cell_type": "code",
   "execution_count": null,
   "metadata": {},
   "outputs": [],
   "source": [
    "# model =load_model(model_save_path)"
   ]
  },
  {
   "cell_type": "code",
   "execution_count": null,
   "metadata": {},
   "outputs": [],
   "source": [
    "\n",
    "# import tensorflow\n",
    "# print (tensorflow.__version__)\n",
    "# from platform import python_version\n",
    "# print(python_version())"
   ]
  },
  {
   "cell_type": "code",
   "execution_count": null,
   "metadata": {},
   "outputs": [],
   "source": []
  }
 ],
 "metadata": {
  "kernelspec": {
   "display_name": "siamese",
   "language": "python",
   "name": "siamese"
  },
  "language_info": {
   "codemirror_mode": {
    "name": "ipython",
    "version": 3
   },
   "file_extension": ".py",
   "mimetype": "text/x-python",
   "name": "python",
   "nbconvert_exporter": "python",
   "pygments_lexer": "ipython3",
   "version": "3.7.4"
  }
 },
 "nbformat": 4,
 "nbformat_minor": 2
}
