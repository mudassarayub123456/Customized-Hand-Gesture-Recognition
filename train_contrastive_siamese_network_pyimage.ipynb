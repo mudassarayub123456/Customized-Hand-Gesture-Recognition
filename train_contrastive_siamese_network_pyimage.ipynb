{
 "cells": [
  {
   "cell_type": "code",
   "execution_count": 2,
   "metadata": {},
   "outputs": [],
   "source": [
    "# import the necessary packages\n",
    "from pyimagesearch.siamese_net import build_siamese_model\n",
    "from pyimagesearch import metrics\n",
    "from pyimagesearch import config\n",
    "from pyimagesearch import utils\n",
    "from tensorflow.keras.models import Model\n",
    "from tensorflow.keras.layers import Dense\n",
    "from tensorflow.keras.layers import Input\n",
    "from tensorflow.keras.layers import Lambda\n",
    "from tensorflow.keras.datasets import mnist\n",
    "import numpy as np"
   ]
  },
  {
   "cell_type": "code",
   "execution_count": 3,
   "metadata": {},
   "outputs": [
    {
     "name": "stdout",
     "output_type": "stream",
     "text": [
      "500\n",
      "(42,)\n",
      "16\n"
     ]
    }
   ],
   "source": [
    "print(config.EPOCHS)\n",
    "print(config.IMG_SHAPE)\n",
    "print(config.BATCH_SIZE)"
   ]
  },
  {
   "cell_type": "code",
   "execution_count": 4,
   "metadata": {},
   "outputs": [],
   "source": [
    "import csv\n",
    "import tensorflow as tf\n",
    "from sklearn.model_selection import train_test_split\n",
    "\n",
    "RANDOM_SEED = 42"
   ]
  },
  {
   "cell_type": "code",
   "execution_count": 5,
   "metadata": {},
   "outputs": [],
   "source": [
    "dataset = 'model/keypoint_classifier/keypoint.csv'\n",
    "X_dataset = np.loadtxt(dataset, delimiter=',', dtype='float32', usecols=list(range(1, (21 * 2) + 1)))\n",
    "y_dataset = np.loadtxt(dataset, delimiter=',', dtype='int32', usecols=(0))\n",
    "trainX, testX, trainY, testY = train_test_split(X_dataset, y_dataset, train_size=0.85, random_state=RANDOM_SEED)\n",
    "                       "
   ]
  },
  {
   "cell_type": "code",
   "execution_count": 6,
   "metadata": {},
   "outputs": [
    {
     "name": "stdout",
     "output_type": "stream",
     "text": [
      "train images shape (3206, 42)\n",
      "lables train (3206,)\n",
      "test images shape (566, 42)\n",
      "labels test (566,)\n"
     ]
    }
   ],
   "source": [
    "print('train images shape',trainX.shape)\n",
    "print('lables train',trainY.shape)\n",
    "print('test images shape',testX.shape)\n",
    "print('labels test',testY.shape)"
   ]
  },
  {
   "cell_type": "code",
   "execution_count": 7,
   "metadata": {},
   "outputs": [
    {
     "name": "stdout",
     "output_type": "stream",
     "text": [
      "[INFO] preparing positive and negative pairs...\n",
      "(6412, 2, 42)\n",
      "(6412, 1)\n",
      "(1132, 2, 42)\n",
      "(1132, 1)\n"
     ]
    }
   ],
   "source": [
    "# prepare the positive and negative pairs\n",
    "print(\"[INFO] preparing positive and negative pairs...\")\n",
    "(pairTrain, labelTrain) = utils.make_pairs(trainX, trainY)\n",
    "(pairTest, labelTest) = utils.make_pairs(testX, testY)\n",
    "\n",
    "# pair shape\n",
    "print(pairTrain.shape)\n",
    "print(labelTrain.shape)\n",
    "\n",
    "print(pairTest.shape)\n",
    "print(labelTest.shape)"
   ]
  },
  {
   "cell_type": "code",
   "execution_count": 8,
   "metadata": {},
   "outputs": [
    {
     "name": "stdout",
     "output_type": "stream",
     "text": [
      "[INFO] building siamese network...\n",
      "(None, 42)\n",
      "(None, 256)\n"
     ]
    }
   ],
   "source": [
    "# this block is different from the previous trained binary cross entropy siamese mode \n",
    "# configure the siamese network\n",
    "print(\"[INFO] building siamese network...\")\n",
    "imgA = Input(shape=config.IMG_SHAPE)\n",
    "imgB = Input(shape=config.IMG_SHAPE)\n",
    "print(imgA.shape)\n",
    "featureExtractor = build_siamese_model(config.IMG_SHAPE)\n",
    "featsA = featureExtractor(imgA)\n",
    "featsB = featureExtractor(imgB)\n",
    "print(featsA.shape)\n",
    "\n",
    "# finally, construct the siamese network\n",
    "distance = Lambda(utils.euclidean_distance)([featsA, featsB])\n",
    "# outputs = Dense(1, activation=\"sigmoid\")(distance) this is not include instead in contrastive loss model\n",
    "model = Model(inputs=[imgA, imgB], outputs=distance)"
   ]
  },
  {
   "cell_type": "code",
   "execution_count": 9,
   "metadata": {},
   "outputs": [],
   "source": [
    "model_save_path = 'output/saving_model/mudassar_contranstive_loss_siamese.hdf5'\n",
    "cp_callback = tf.keras.callbacks.ModelCheckpoint(\n",
    "    model_save_path, verbose=1, save_weights_only=False)\n",
    "es_callback = tf.keras.callbacks.EarlyStopping(patience=30, verbose=1)"
   ]
  },
  {
   "cell_type": "code",
   "execution_count": 10,
   "metadata": {},
   "outputs": [
    {
     "name": "stdout",
     "output_type": "stream",
     "text": [
      "[INFO] compiling model...\n"
     ]
    }
   ],
   "source": [
    "# compile the model\n",
    "print(\"[INFO] compiling model...\")\n",
    "# model.compile(loss=metrics.contrastive_loss, optimizer=\"adam\",\n",
    "# \tmetrics=[\"accuracy\"])\n",
    "model.compile(loss=metrics.contrastive_loss, optimizer=\"adam\")"
   ]
  },
  {
   "cell_type": "code",
   "execution_count": 11,
   "metadata": {},
   "outputs": [
    {
     "name": "stdout",
     "output_type": "stream",
     "text": [
      "[INFO] training model...\n",
      "Epoch 1/500\n",
      "401/401 [==============================] - 2s 4ms/step - loss: 2.3617 - val_loss: 0.4006\n",
      "\n",
      "Epoch 00001: saving model to output/saving_model\\mudassar_contranstive_loss_siamese.hdf5\n",
      "Epoch 2/500\n",
      "401/401 [==============================] - 1s 1ms/step - loss: 0.2928 - val_loss: 0.3176\n",
      "\n",
      "Epoch 00002: saving model to output/saving_model\\mudassar_contranstive_loss_siamese.hdf5\n",
      "Epoch 3/500\n",
      "401/401 [==============================] - 1s 1ms/step - loss: 0.2491 - val_loss: 0.2184\n",
      "\n",
      "Epoch 00003: saving model to output/saving_model\\mudassar_contranstive_loss_siamese.hdf5\n",
      "Epoch 4/500\n",
      "401/401 [==============================] - 1s 2ms/step - loss: 0.2206 - val_loss: 0.1883\n",
      "\n",
      "Epoch 00004: saving model to output/saving_model\\mudassar_contranstive_loss_siamese.hdf5\n",
      "Epoch 5/500\n",
      "401/401 [==============================] - 1s 1ms/step - loss: 0.1925 - val_loss: 0.1545\n",
      "\n",
      "Epoch 00005: saving model to output/saving_model\\mudassar_contranstive_loss_siamese.hdf5\n",
      "Epoch 6/500\n",
      "401/401 [==============================] - 1s 2ms/step - loss: 0.1815 - val_loss: 0.1468\n",
      "\n",
      "Epoch 00006: saving model to output/saving_model\\mudassar_contranstive_loss_siamese.hdf5\n",
      "Epoch 7/500\n",
      "401/401 [==============================] - 1s 2ms/step - loss: 0.1725 - val_loss: 0.1209\n",
      "\n",
      "Epoch 00007: saving model to output/saving_model\\mudassar_contranstive_loss_siamese.hdf5\n",
      "Epoch 8/500\n",
      "401/401 [==============================] - 1s 1ms/step - loss: 0.1658 - val_loss: 0.1110\n",
      "\n",
      "Epoch 00008: saving model to output/saving_model\\mudassar_contranstive_loss_siamese.hdf5\n",
      "Epoch 9/500\n",
      "401/401 [==============================] - 1s 2ms/step - loss: 0.1575 - val_loss: 0.1020\n",
      "\n",
      "Epoch 00009: saving model to output/saving_model\\mudassar_contranstive_loss_siamese.hdf5\n",
      "Epoch 10/500\n",
      "401/401 [==============================] - 1s 2ms/step - loss: 0.1544 - val_loss: 0.1144\n",
      "\n",
      "Epoch 00010: saving model to output/saving_model\\mudassar_contranstive_loss_siamese.hdf5\n",
      "Epoch 11/500\n",
      "401/401 [==============================] - 1s 1ms/step - loss: 0.1532 - val_loss: 0.1007\n",
      "\n",
      "Epoch 00011: saving model to output/saving_model\\mudassar_contranstive_loss_siamese.hdf5\n",
      "Epoch 12/500\n",
      "401/401 [==============================] - 1s 2ms/step - loss: 0.1480 - val_loss: 0.0953\n",
      "\n",
      "Epoch 00012: saving model to output/saving_model\\mudassar_contranstive_loss_siamese.hdf5\n",
      "Epoch 13/500\n",
      "401/401 [==============================] - 1s 1ms/step - loss: 0.1424 - val_loss: 0.1182\n",
      "\n",
      "Epoch 00013: saving model to output/saving_model\\mudassar_contranstive_loss_siamese.hdf5\n",
      "Epoch 14/500\n",
      "401/401 [==============================] - 1s 2ms/step - loss: 0.1405 - val_loss: 0.0967\n",
      "\n",
      "Epoch 00014: saving model to output/saving_model\\mudassar_contranstive_loss_siamese.hdf5\n",
      "Epoch 15/500\n",
      "401/401 [==============================] - 1s 2ms/step - loss: 0.1397 - val_loss: 0.0897\n",
      "\n",
      "Epoch 00015: saving model to output/saving_model\\mudassar_contranstive_loss_siamese.hdf5\n",
      "Epoch 16/500\n",
      "401/401 [==============================] - 1s 1ms/step - loss: 0.1387 - val_loss: 0.1083\n",
      "\n",
      "Epoch 00016: saving model to output/saving_model\\mudassar_contranstive_loss_siamese.hdf5\n",
      "Epoch 17/500\n",
      "401/401 [==============================] - 1s 2ms/step - loss: 0.1355 - val_loss: 0.1030\n",
      "\n",
      "Epoch 00017: saving model to output/saving_model\\mudassar_contranstive_loss_siamese.hdf5\n",
      "Epoch 18/500\n",
      "401/401 [==============================] - 1s 2ms/step - loss: 0.1347 - val_loss: 0.1035\n",
      "\n",
      "Epoch 00018: saving model to output/saving_model\\mudassar_contranstive_loss_siamese.hdf5\n",
      "Epoch 19/500\n",
      "401/401 [==============================] - 1s 1ms/step - loss: 0.1261 - val_loss: 0.1063\n",
      "\n",
      "Epoch 00019: saving model to output/saving_model\\mudassar_contranstive_loss_siamese.hdf5\n",
      "Epoch 20/500\n",
      "401/401 [==============================] - 1s 3ms/step - loss: 0.1286 - val_loss: 0.1040\n",
      "\n",
      "Epoch 00020: saving model to output/saving_model\\mudassar_contranstive_loss_siamese.hdf5\n",
      "Epoch 21/500\n",
      "401/401 [==============================] - 1s 1ms/step - loss: 0.1320 - val_loss: 0.0842\n",
      "\n",
      "Epoch 00021: saving model to output/saving_model\\mudassar_contranstive_loss_siamese.hdf5\n",
      "Epoch 22/500\n",
      "401/401 [==============================] - 1s 2ms/step - loss: 0.1272 - val_loss: 0.1077\n",
      "\n",
      "Epoch 00022: saving model to output/saving_model\\mudassar_contranstive_loss_siamese.hdf5\n",
      "Epoch 23/500\n",
      "401/401 [==============================] - 1s 2ms/step - loss: 0.1254 - val_loss: 0.0963\n",
      "\n",
      "Epoch 00023: saving model to output/saving_model\\mudassar_contranstive_loss_siamese.hdf5\n",
      "Epoch 24/500\n",
      "401/401 [==============================] - 1s 1ms/step - loss: 0.1262 - val_loss: 0.1046\n",
      "\n",
      "Epoch 00024: saving model to output/saving_model\\mudassar_contranstive_loss_siamese.hdf5\n",
      "Epoch 25/500\n",
      "401/401 [==============================] - 1s 3ms/step - loss: 0.1195 - val_loss: 0.0946\n",
      "\n",
      "Epoch 00025: saving model to output/saving_model\\mudassar_contranstive_loss_siamese.hdf5\n",
      "Epoch 26/500\n",
      "401/401 [==============================] - 1s 2ms/step - loss: 0.1268 - val_loss: 0.0857\n",
      "\n",
      "Epoch 00026: saving model to output/saving_model\\mudassar_contranstive_loss_siamese.hdf5\n",
      "Epoch 27/500\n",
      "401/401 [==============================] - 1s 2ms/step - loss: 0.1215 - val_loss: 0.1055\n",
      "\n",
      "Epoch 00027: saving model to output/saving_model\\mudassar_contranstive_loss_siamese.hdf5\n",
      "Epoch 28/500\n",
      "401/401 [==============================] - 1s 2ms/step - loss: 0.1168 - val_loss: 0.0850\n",
      "\n",
      "Epoch 00028: saving model to output/saving_model\\mudassar_contranstive_loss_siamese.hdf5\n",
      "Epoch 29/500\n",
      "401/401 [==============================] - 1s 1ms/step - loss: 0.1152 - val_loss: 0.0796\n",
      "\n",
      "Epoch 00029: saving model to output/saving_model\\mudassar_contranstive_loss_siamese.hdf5\n",
      "Epoch 30/500\n",
      "401/401 [==============================] - 1s 2ms/step - loss: 0.1212 - val_loss: 0.0943\n",
      "\n",
      "Epoch 00030: saving model to output/saving_model\\mudassar_contranstive_loss_siamese.hdf5\n",
      "Epoch 31/500\n",
      "401/401 [==============================] - 1s 2ms/step - loss: 0.1164 - val_loss: 0.1023\n",
      "\n",
      "Epoch 00031: saving model to output/saving_model\\mudassar_contranstive_loss_siamese.hdf5\n",
      "Epoch 32/500\n",
      "401/401 [==============================] - 1s 1ms/step - loss: 0.1164 - val_loss: 0.0998\n",
      "\n",
      "Epoch 00032: saving model to output/saving_model\\mudassar_contranstive_loss_siamese.hdf5\n",
      "Epoch 33/500\n",
      "401/401 [==============================] - 1s 3ms/step - loss: 0.1124 - val_loss: 0.0870\n",
      "\n",
      "Epoch 00033: saving model to output/saving_model\\mudassar_contranstive_loss_siamese.hdf5\n",
      "Epoch 34/500\n",
      "401/401 [==============================] - 1s 1ms/step - loss: 0.1184 - val_loss: 0.0832\n",
      "\n",
      "Epoch 00034: saving model to output/saving_model\\mudassar_contranstive_loss_siamese.hdf5\n",
      "Epoch 35/500\n",
      "401/401 [==============================] - 1s 2ms/step - loss: 0.1125 - val_loss: 0.0981\n",
      "\n",
      "Epoch 00035: saving model to output/saving_model\\mudassar_contranstive_loss_siamese.hdf5\n",
      "Epoch 36/500\n",
      "401/401 [==============================] - 1s 2ms/step - loss: 0.1108 - val_loss: 0.0973\n",
      "\n",
      "Epoch 00036: saving model to output/saving_model\\mudassar_contranstive_loss_siamese.hdf5\n",
      "Epoch 37/500\n",
      "401/401 [==============================] - 1s 1ms/step - loss: 0.1111 - val_loss: 0.0911\n",
      "\n",
      "Epoch 00037: saving model to output/saving_model\\mudassar_contranstive_loss_siamese.hdf5\n",
      "Epoch 38/500\n",
      "401/401 [==============================] - 1s 2ms/step - loss: 0.1087 - val_loss: 0.1019\n",
      "\n",
      "Epoch 00038: saving model to output/saving_model\\mudassar_contranstive_loss_siamese.hdf5\n",
      "Epoch 39/500\n",
      "401/401 [==============================] - 1s 2ms/step - loss: 0.1084 - val_loss: 0.1010\n",
      "\n",
      "Epoch 00039: saving model to output/saving_model\\mudassar_contranstive_loss_siamese.hdf5\n",
      "Epoch 40/500\n",
      "401/401 [==============================] - 1s 1ms/step - loss: 0.1104 - val_loss: 0.1044\n",
      "\n",
      "Epoch 00040: saving model to output/saving_model\\mudassar_contranstive_loss_siamese.hdf5\n",
      "Epoch 41/500\n",
      "401/401 [==============================] - 1s 3ms/step - loss: 0.1111 - val_loss: 0.0877\n",
      "\n",
      "Epoch 00041: saving model to output/saving_model\\mudassar_contranstive_loss_siamese.hdf5\n",
      "Epoch 42/500\n",
      "401/401 [==============================] - 1s 1ms/step - loss: 0.1073 - val_loss: 0.1034\n",
      "\n",
      "Epoch 00042: saving model to output/saving_model\\mudassar_contranstive_loss_siamese.hdf5\n",
      "Epoch 43/500\n",
      "401/401 [==============================] - 1s 2ms/step - loss: 0.1104 - val_loss: 0.0966\n",
      "\n",
      "Epoch 00043: saving model to output/saving_model\\mudassar_contranstive_loss_siamese.hdf5\n",
      "Epoch 44/500\n"
     ]
    },
    {
     "name": "stdout",
     "output_type": "stream",
     "text": [
      "401/401 [==============================] - 1s 2ms/step - loss: 0.1080 - val_loss: 0.1153\n",
      "\n",
      "Epoch 00044: saving model to output/saving_model\\mudassar_contranstive_loss_siamese.hdf5\n",
      "Epoch 45/500\n",
      "401/401 [==============================] - 1s 1ms/step - loss: 0.1005 - val_loss: 0.1113\n",
      "\n",
      "Epoch 00045: saving model to output/saving_model\\mudassar_contranstive_loss_siamese.hdf5\n",
      "Epoch 46/500\n",
      "401/401 [==============================] - 1s 2ms/step - loss: 0.1097 - val_loss: 0.0993\n",
      "\n",
      "Epoch 00046: saving model to output/saving_model\\mudassar_contranstive_loss_siamese.hdf5\n",
      "Epoch 47/500\n",
      "401/401 [==============================] - 1s 2ms/step - loss: 0.1025 - val_loss: 0.1135\n",
      "\n",
      "Epoch 00047: saving model to output/saving_model\\mudassar_contranstive_loss_siamese.hdf5\n",
      "Epoch 48/500\n",
      "401/401 [==============================] - 1s 1ms/step - loss: 0.1018 - val_loss: 0.1066\n",
      "\n",
      "Epoch 00048: saving model to output/saving_model\\mudassar_contranstive_loss_siamese.hdf5\n",
      "Epoch 49/500\n",
      "401/401 [==============================] - 1s 2ms/step - loss: 0.1032 - val_loss: 0.1041\n",
      "\n",
      "Epoch 00049: saving model to output/saving_model\\mudassar_contranstive_loss_siamese.hdf5\n",
      "Epoch 50/500\n",
      "401/401 [==============================] - 1s 1ms/step - loss: 0.1010 - val_loss: 0.1112\n",
      "\n",
      "Epoch 00050: saving model to output/saving_model\\mudassar_contranstive_loss_siamese.hdf5\n",
      "Epoch 51/500\n",
      "401/401 [==============================] - 1s 1ms/step - loss: 0.1007 - val_loss: 0.0880\n",
      "\n",
      "Epoch 00051: saving model to output/saving_model\\mudassar_contranstive_loss_siamese.hdf5\n",
      "Epoch 52/500\n",
      "401/401 [==============================] - 1s 2ms/step - loss: 0.1009 - val_loss: 0.1033\n",
      "\n",
      "Epoch 00052: saving model to output/saving_model\\mudassar_contranstive_loss_siamese.hdf5\n",
      "Epoch 53/500\n",
      "401/401 [==============================] - 1s 1ms/step - loss: 0.1005 - val_loss: 0.1039\n",
      "\n",
      "Epoch 00053: saving model to output/saving_model\\mudassar_contranstive_loss_siamese.hdf5\n",
      "Epoch 54/500\n",
      "401/401 [==============================] - 1s 2ms/step - loss: 0.1007 - val_loss: 0.1023\n",
      "\n",
      "Epoch 00054: saving model to output/saving_model\\mudassar_contranstive_loss_siamese.hdf5\n",
      "Epoch 55/500\n",
      "401/401 [==============================] - 1s 2ms/step - loss: 0.0981 - val_loss: 0.1091\n",
      "\n",
      "Epoch 00055: saving model to output/saving_model\\mudassar_contranstive_loss_siamese.hdf5\n",
      "Epoch 56/500\n",
      "401/401 [==============================] - 1s 1ms/step - loss: 0.1032 - val_loss: 0.0982\n",
      "\n",
      "Epoch 00056: saving model to output/saving_model\\mudassar_contranstive_loss_siamese.hdf5\n",
      "Epoch 57/500\n",
      "401/401 [==============================] - 1s 2ms/step - loss: 0.0983 - val_loss: 0.1111\n",
      "\n",
      "Epoch 00057: saving model to output/saving_model\\mudassar_contranstive_loss_siamese.hdf5\n",
      "Epoch 58/500\n",
      "401/401 [==============================] - 1s 2ms/step - loss: 0.0996 - val_loss: 0.1096\n",
      "\n",
      "Epoch 00058: saving model to output/saving_model\\mudassar_contranstive_loss_siamese.hdf5\n",
      "Epoch 59/500\n",
      "401/401 [==============================] - 0s 1ms/step - loss: 0.0969 - val_loss: 0.1213\n",
      "\n",
      "Epoch 00059: saving model to output/saving_model\\mudassar_contranstive_loss_siamese.hdf5\n",
      "Epoch 00059: early stopping\n"
     ]
    }
   ],
   "source": [
    "# train the model\n",
    "print(\"[INFO] training model...\")\n",
    "history = model.fit(\n",
    "\t[pairTrain[:, 0], pairTrain[:, 1]], labelTrain[:],\n",
    "\tvalidation_data=([pairTest[:, 0], pairTest[:, 1]], labelTest[:]),\n",
    "\tbatch_size=config.BATCH_SIZE, \n",
    "\tepochs=config.EPOCHS,\n",
    "    callbacks=[cp_callback, es_callback])"
   ]
  },
  {
   "cell_type": "code",
   "execution_count": 12,
   "metadata": {},
   "outputs": [
    {
     "name": "stdout",
     "output_type": "stream",
     "text": [
      "[INFO] saving siamese model...\n",
      "INFO:tensorflow:Assets written to: output\\contrastive_siamese_model\\assets\n",
      "[INFO] plotting training history...\n"
     ]
    },
    {
     "data": {
      "image/png": "[encoded data removed]",
      "text/plain": [
       "<Figure size 432x288 with 1 Axes>"
      ]
     },
     "metadata": {
      "needs_background": "light"
     },
     "output_type": "display_data"
    }
   ],
   "source": [
    "print(\"[INFO] saving siamese model...\")\n",
    "model.save(config.MODEL_PATH_Con)\n",
    "# plot the training history\n",
    "print(\"[INFO] plotting training history...\")\n",
    "utils.plot_training_Con(history, config.PLOT_PATH_Con)"
   ]
  },
  {
   "cell_type": "code",
   "execution_count": 13,
   "metadata": {},
   "outputs": [
    {
     "name": "stdout",
     "output_type": "stream",
     "text": [
      "36/36 [==============================] - 0s 860us/step - loss: 0.1213\n",
      "test loss, test acc: 0.12126298248767853\n"
     ]
    }
   ],
   "source": [
    "results = model.evaluate([pairTest[:,0], pairTest[:,1]], labelTest[:]) \n",
    "print(\"test loss, test acc:\", results)"
   ]
  },
  {
   "cell_type": "code",
   "execution_count": 14,
   "metadata": {},
   "outputs": [],
   "source": [
    "anchors_path = r\"E:\\nicholas renotte\\siamese_handgesture_v5_26_6_22\\model\\keypoint_classifier\\anchors.csv\"\n",
    "test_path = r\"E:\\nicholas renotte\\siamese_handgesture_v5_26_6_22\\model\\keypoint_classifier\\test.csv\"\n",
    "anchors = np.loadtxt(anchors_path, delimiter=',', dtype='float32', usecols=list(range(1, (21 * 2) + 1)))\n",
    "#print(anchors)\n",
    "testing = np.loadtxt(test_path, delimiter=',', dtype='float32', usecols=list(range(1, (21 * 2) + 1)))"
   ]
  },
  {
   "cell_type": "code",
   "execution_count": 15,
   "metadata": {},
   "outputs": [
    {
     "name": "stdout",
     "output_type": "stream",
     "text": [
      "[array([[0.6697108]], dtype=float32), array([[0.5512086]], dtype=float32), array([[0.83712345]], dtype=float32), array([[0.23431748]], dtype=float32), array([[0.45442966]], dtype=float32), array([[0.65239626]], dtype=float32), array([[0.84404653]], dtype=float32), array([[0.7950879]], dtype=float32), array([[0.8087546]], dtype=float32), array([[0.61721414]], dtype=float32), array([[0.5845502]], dtype=float32), array([[0.7747625]], dtype=float32), array([[0.02224771]], dtype=float32)]\n",
      "12\n"
     ]
    }
   ],
   "source": [
    "out_preds = []\n",
    "for anchor in anchors:\n",
    "#     print(type(testing))\n",
    "#     print(type(anchor))\n",
    "    out_preds.append(model.predict([np.expand_dims(anchor, axis = 0), np.expand_dims(testing, axis = 0)]))\n",
    "gg= np.argmin(out_preds)\n",
    "print(out_preds)\n",
    "print(gg)"
   ]
  },
  {
   "cell_type": "code",
   "execution_count": 16,
   "metadata": {},
   "outputs": [
    {
     "name": "stdout",
     "output_type": "stream",
     "text": [
      "['I', 'Love', 'You', 'Play', 'How', 'Football', 'Fine', 'Am', 'cricket', 'Excellent', 'Reverse', 'Funny', 'help']\n",
      "help\n"
     ]
    }
   ],
   "source": [
    "with open('model/keypoint_classifier/keypoint_classifier_label.csv',\n",
    "            encoding='utf-8-sig') as f:\n",
    "    \n",
    "    keypoint_classifier_labels = csv.reader(f)\n",
    "    keypoint_classifier_labels = [\n",
    "        row[0] for row in keypoint_classifier_labels\n",
    "    ]\n",
    "    print(keypoint_classifier_labels)\n",
    "    \n",
    "aa =keypoint_classifier_labels[gg]\n",
    "print(aa)"
   ]
  },
  {
   "cell_type": "code",
   "execution_count": null,
   "metadata": {},
   "outputs": [],
   "source": [
    "\n",
    "for anchor in anchors:\n",
    "    \n",
    "#     print(type(testing))\n",
    "#     print(type(anchor))\n",
    "    a= model.predict([np.expand_dims(anchor, axis = 0), np.expand_dims(testing, axis = 0)])\n",
    "    #print(a)\n",
    "    print(a[0][0])\n",
    "    "
   ]
  },
  {
   "cell_type": "code",
   "execution_count": null,
   "metadata": {},
   "outputs": [],
   "source": [
    "print(model.summary())"
   ]
  },
  {
   "cell_type": "code",
   "execution_count": 17,
   "metadata": {},
   "outputs": [
    {
     "name": "stdout",
     "output_type": "stream",
     "text": [
      "INFO:tensorflow:Assets written to: C:\\Users\\HP\\AppData\\Local\\Temp\\tmpe9t27jed\\assets\n"
     ]
    },
    {
     "data": {
      "text/plain": [
       "43408"
      ]
     },
     "execution_count": 17,
     "metadata": {},
     "output_type": "execute_result"
    }
   ],
   "source": [
    "#tflite_save_path = 'model/keypoint_classifier/keypoint_classifier.tflite'\n",
    "tflite_save_path = 'netron model shapes/contranstive/contranstive.tflite'\n",
    "\n",
    "converter = tf.lite.TFLiteConverter.from_keras_model(model)\n",
    "converter.optimizations = [tf.lite.Optimize.DEFAULT]\n",
    "tflite_quantized_model = converter.convert()\n",
    "\n",
    "open(tflite_save_path, 'wb').write(tflite_quantized_model)"
   ]
  },
  {
   "cell_type": "code",
   "execution_count": null,
   "metadata": {},
   "outputs": [],
   "source": [
    "interpreter = tf.lite.Interpreter(model_path=tflite_save_path)\n",
    "interpreter.allocate_tensors()"
   ]
  },
  {
   "cell_type": "code",
   "execution_count": null,
   "metadata": {},
   "outputs": [],
   "source": [
    "input_details = interpreter.get_input_details()\n",
    "output_details = interpreter.get_output_details()"
   ]
  },
  {
   "cell_type": "code",
   "execution_count": null,
   "metadata": {},
   "outputs": [],
   "source": [
    "print(\"Input Shape:\", input_details[0]['shape'])\n",
    "print(\"Input Type:\", input_details[0]['dtype'])\n",
    "print(\"Output Shape:\", output_details[0]['shape'])\n",
    "print(\"Output Type:\", output_details[0]['dtype'])"
   ]
  },
  {
   "cell_type": "code",
   "execution_count": null,
   "metadata": {},
   "outputs": [],
   "source": []
  }
 ],
 "metadata": {
  "kernelspec": {
   "display_name": "siamese",
   "language": "python",
   "name": "siamese"
  },
  "language_info": {
   "codemirror_mode": {
    "name": "ipython",
    "version": 3
   },
   "file_extension": ".py",
   "mimetype": "text/x-python",
   "name": "python",
   "nbconvert_exporter": "python",
   "pygments_lexer": "ipython3",
   "version": "3.7.4"
  }
 },
 "nbformat": 4,
 "nbformat_minor": 2
}
